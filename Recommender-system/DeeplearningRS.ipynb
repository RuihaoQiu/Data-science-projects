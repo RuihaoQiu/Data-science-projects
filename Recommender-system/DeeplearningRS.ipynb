{
 "cells": [
  {
   "cell_type": "markdown",
   "metadata": {},
   "source": [
    "## Recommender system by deep learning\n",
    "\n",
    "Learn the latern feature of both item and user by deep neural network."
   ]
  },
  {
   "cell_type": "code",
   "execution_count": 4,
   "metadata": {},
   "outputs": [
    {
     "data": {
      "text/plain": [
       "(943, 1682)"
      ]
     },
     "execution_count": 4,
     "metadata": {},
     "output_type": "execute_result"
    }
   ],
   "source": [
    "import pandas as pd\n",
    "\n",
    "#Reading ratings file:\n",
    "r_cols = ['user_id', 'movie_id', 'rating', 'unix_timestamp']\n",
    "ratings = pd.read_csv('ml-100k/u.data', sep='\\t', names=r_cols,\n",
    " encoding='latin-1')\n",
    "\n",
    "R_df = ratings.pivot(index = 'user_id', columns ='movie_id', values = 'rating')\n",
    "R_df.shape"
   ]
  },
  {
   "cell_type": "code",
   "execution_count": 12,
   "metadata": {},
   "outputs": [
    {
     "name": "stdout",
     "output_type": "stream",
     "text": [
      "Sparsity: 93.70%\n"
     ]
    }
   ],
   "source": [
    "sparsity = np.isnan(R_df.values).sum()/np.prod(R_df.shape)\n",
    "print(\"Sparsity: {0:.2%}\".format(sparsity))"
   ]
  },
  {
   "cell_type": "code",
   "execution_count": 62,
   "metadata": {},
   "outputs": [
    {
     "name": "stdout",
     "output_type": "stream",
     "text": [
      "100000\n",
      "(80000, 2) (20000, 2)\n"
     ]
    }
   ],
   "source": [
    "from sklearn.model_selection import train_test_split\n",
    "\n",
    "idx = np.argwhere(~np.isnan(R_df.values)) ## indices with rating\n",
    "print(len(idx))\n",
    "\n",
    "## transform indices to make X\n",
    "X = np.array(idx + [0, R_df.shape[0]])\n",
    "y = np.array([int(R_df.iloc[idx[i, 0],idx[i, 1]])-1 for i in range(len(idx))])\n",
    "\n",
    "X_train, X_test, y_train, y_test = train_test_split(X, y, test_size=0.2, random_state=99, stratify=y)\n",
    "\n",
    "print(X_train.shape, X_test.shape)"
   ]
  },
  {
   "cell_type": "code",
   "execution_count": 70,
   "metadata": {},
   "outputs": [
    {
     "name": "stdout",
     "output_type": "stream",
     "text": [
      "[3 3 4 3 2 3 3 1 4 4]\n",
      "_________________________________________________________________\n",
      "Layer (type)                 Output Shape              Param #   \n",
      "=================================================================\n",
      "embedding_8 (Embedding)      (None, 2, 256)            672000    \n",
      "_________________________________________________________________\n",
      "dropout_16 (Dropout)         (None, 2, 256)            0         \n",
      "_________________________________________________________________\n",
      "flatten_3 (Flatten)          (None, 512)               0         \n",
      "_________________________________________________________________\n",
      "dense_13 (Dense)             (None, 128)               65664     \n",
      "_________________________________________________________________\n",
      "dropout_17 (Dropout)         (None, 128)               0         \n",
      "_________________________________________________________________\n",
      "dense_14 (Dense)             (None, 32)                4128      \n",
      "_________________________________________________________________\n",
      "dropout_18 (Dropout)         (None, 32)                0         \n",
      "_________________________________________________________________\n",
      "dense_15 (Dense)             (None, 5)                 165       \n",
      "=================================================================\n",
      "Total params: 741,957\n",
      "Trainable params: 741,957\n",
      "Non-trainable params: 0\n",
      "_________________________________________________________________\n",
      "None\n",
      "Train on 80000 samples, validate on 20000 samples\n",
      "Epoch 1/10\n",
      "80000/80000 [==============================] - 41s 510us/step - loss: 1.3690 - acc: 0.3854 - val_loss: 1.2762 - val_acc: 0.4315\n",
      "Epoch 2/10\n",
      "80000/80000 [==============================] - 42s 521us/step - loss: 1.2924 - acc: 0.4258 - val_loss: 1.2579 - val_acc: 0.4429\n",
      "Epoch 3/10\n",
      "80000/80000 [==============================] - 38s 481us/step - loss: 1.2731 - acc: 0.4321 - val_loss: 1.2484 - val_acc: 0.4461\n",
      "Epoch 4/10\n",
      "80000/80000 [==============================] - 40s 496us/step - loss: 1.2563 - acc: 0.4391 - val_loss: 1.2441 - val_acc: 0.4462\n",
      "Epoch 5/10\n",
      "80000/80000 [==============================] - 41s 509us/step - loss: 1.2504 - acc: 0.4438 - val_loss: 1.2433 - val_acc: 0.4460\n",
      "Epoch 6/10\n",
      "80000/80000 [==============================] - 40s 504us/step - loss: 1.2412 - acc: 0.4468 - val_loss: 1.2421 - val_acc: 0.4500\n",
      "Epoch 7/10\n",
      "80000/80000 [==============================] - 39s 490us/step - loss: 1.2336 - acc: 0.4497 - val_loss: 1.2372 - val_acc: 0.4506\n",
      "Epoch 8/10\n",
      "80000/80000 [==============================] - 44s 549us/step - loss: 1.2299 - acc: 0.4514 - val_loss: 1.2358 - val_acc: 0.4550\n",
      "Epoch 9/10\n",
      "80000/80000 [==============================] - 39s 485us/step - loss: 1.2243 - acc: 0.4539 - val_loss: 1.2367 - val_acc: 0.4518\n",
      "Epoch 10/10\n",
      "80000/80000 [==============================] - 41s 517us/step - loss: 1.2181 - acc: 0.4572 - val_loss: 1.2329 - val_acc: 0.4501\n"
     ]
    }
   ],
   "source": [
    "import keras\n",
    "from keras.models import Sequential\n",
    "from keras.layers.embeddings import Embedding\n",
    "from keras.layers import Dense\n",
    "from keras.layers import Dropout\n",
    "from keras.layers import Flatten\n",
    "\n",
    "vocab_size = sum(R_df.shape)\n",
    "Y_train = keras.utils.to_categorical(y_train, 5)\n",
    "Y_test  = keras.utils.to_categorical(y_test, 5)\n",
    "\n",
    "\n",
    "model = Sequential()\n",
    "model.add(Embedding(vocab_size, 256, input_length=2))\n",
    "model.add(Dropout(0.5))\n",
    "model.add(Flatten())\n",
    "model.add(Dense(128, activation='relu'))\n",
    "model.add(Dropout(0.5))\n",
    "model.add(Dense(32, activation='relu'))\n",
    "model.add(Dropout(0.5))\n",
    "model.add(Dense(5, activation='softmax'))\n",
    "model.compile(optimizer='adam', loss='categorical_crossentropy', metrics=['acc'])\n",
    "print(model.summary())\n",
    "model.fit(X_train, Y_train, validation_data=(X_test, Y_test), epochs=10, batch_size=32)\n",
    "scores = model.evaluate(X_test, Y_test, verbose=0)"
   ]
  },
  {
   "cell_type": "code",
   "execution_count": null,
   "metadata": {
    "collapsed": true
   },
   "outputs": [],
   "source": []
  }
 ],
 "metadata": {
  "anaconda-cloud": {},
  "kernelspec": {
   "display_name": "Python [conda env:py3]",
   "language": "python",
   "name": "conda-env-py3-py"
  },
  "language_info": {
   "codemirror_mode": {
    "name": "ipython",
    "version": 3
   },
   "file_extension": ".py",
   "mimetype": "text/x-python",
   "name": "python",
   "nbconvert_exporter": "python",
   "pygments_lexer": "ipython3",
   "version": "3.5.3"
  }
 },
 "nbformat": 4,
 "nbformat_minor": 2
}
