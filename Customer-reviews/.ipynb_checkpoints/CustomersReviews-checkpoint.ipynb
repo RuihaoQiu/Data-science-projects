{
 "cells": [
  {
   "cell_type": "markdown",
   "metadata": {
    "nbpresent": {
     "id": "a7a8cc3c-7f58-4977-a0b7-72d4d651afbe"
    },
    "slideshow": {
     "slide_type": "slide"
    }
   },
   "source": [
    "# Customer reviews of Germanwings airline\n",
    "\n",
    "Case study from #ZeroG"
   ]
  },
  {
   "cell_type": "markdown",
   "metadata": {
    "slideshow": {
     "slide_type": "slide"
    }
   },
   "source": [
    "### Why reviews\n",
    "\n",
    "- Search engines like unique content that is regularly updated, and user reviews are a great way to attract more content, hence more visitors. \n",
    "- Reviews produce an average 18% uplift in sales (Reevoo); 63% of customers are more likely to make a purchase from a site which has user reviews. (iPerceptions, 2011).\n",
    "- Consumer reviews are significantly more trusted (nearly 12 times more) than descriptions that come from the company.\n",
    "- Reviews/feedbacks help the companies improve their customer service.\n",
    "\n",
    "<br>\n",
    "<br>\n",
    "Ref: https://econsultancy.com/blog/9366-ecommerce-consumer-reviews-why-you-need-them-and-how-to-use-them\n"
   ]
  },
  {
   "cell_type": "markdown",
   "metadata": {
    "nbpresent": {
     "id": "4fe8ad55-2a95-4de1-a2a6-2e01435c29cf"
    },
    "slideshow": {
     "slide_type": "slide"
    }
   },
   "source": [
    "### How to improve\n",
    "\n",
    "from insight of the data.\n",
    "\n",
    "\n",
    "- data collections and cleaning\n",
    "- data analysis\n",
    "- feature engineering and modeling\n",
    "\n",
    "Tools: Python - Jupyter notebook, Numpy, Pandas, Scikit-learn etc."
   ]
  },
  {
   "cell_type": "code",
   "execution_count": 3,
   "metadata": {
    "collapsed": true,
    "nbpresent": {
     "id": "746a7788-866e-449b-9754-1fa10510baa2"
    },
    "slideshow": {
     "slide_type": "skip"
    }
   },
   "outputs": [],
   "source": [
    "# import modules\n",
    "\n",
    "import pandas as pd\n",
    "import numpy as np\n",
    "from collections import Counter\n",
    "import matplotlib.pyplot as plt\n",
    "from __future__ import print_function \n",
    "\n",
    "plt.style.use(\"ggplot\")\n",
    "\n",
    "color_list = list(plt.rcParams['axes.prop_cycle'])\n",
    "colors = [color_list[i]['color'] for i in range(len(color_list))]"
   ]
  },
  {
   "cell_type": "markdown",
   "metadata": {
    "nbpresent": {
     "id": "bad074cc-54aa-4efe-af00-5d216fbd1349"
    },
    "slideshow": {
     "slide_type": "slide"
    }
   },
   "source": [
    "## Data cleaning\n",
    "### Original data - a sample item"
   ]
  },
  {
   "cell_type": "code",
   "execution_count": 4,
   "metadata": {
    "nbpresent": {
     "id": "29c16211-3283-403c-a1e1-d0b2cd6d262a"
    },
    "slideshow": {
     "slide_type": "-"
    }
   },
   "outputs": [
    {
     "data": {
      "text/plain": [
       "['\"they have been unresponsive\"\\r\\n',\n",
       " 'Brian McNamee (Canada) 16th October 2015\\r\\n',\n",
       " '2\\r\\n',\n",
       " 'We flew with Germanwings (or tried to) on September 30th. After two lengthy delays passengers were notified that the flight was cancelled and to return to the check-in counter for further information. After waiting at the counter for another 30 minutes or so, staff began issuing refunds or providing alternate travel options to passengers. By this point it was quite late in the evening with limited options (plus we were 5+ hours after planned departure). We managed to get a voucher with 3 other passenger to get a flight from Stuttgart to Zurich with an ongoing connection to Amsterdam (flights were with Swiss). We made the flight and the connector (which was held back waiting for about 70 of us) however luggage did not make it. Short of this is the airline was ill-prepared to manage this. They offered little information or options to passengers. since returning home I have been attempting to contact them via email and phone calls to discuss compensation per passenger rights brochure and they have been unresponsive. Not a good way to run a business.\\r\\n',\n",
       " 'Type Of Traveller\\tCouple Leisure\\r\\n',\n",
       " 'Cabin Flown\\tEconomy\\r\\n',\n",
       " 'Route\\tStuttgart to Amsterdam\\r\\n',\n",
       " 'Date Flown\\tSeptember 2015\\r\\n',\n",
       " 'Seat Comfort\\t12345\\r\\n',\n",
       " 'Cabin Staff Service\\t12345\\r\\n',\n",
       " 'Ground Service\\t12345\\r\\n',\n",
       " 'Value For Money\\t12345\\r\\n',\n",
       " 'Recommended\\tno\\r\\n',\n",
       " '\\r\\n']"
      ]
     },
     "execution_count": 4,
     "metadata": {},
     "output_type": "execute_result"
    }
   ],
   "source": [
    "file = open(\"4U_Reviews.txt\", \"r\")\n",
    "data = file.readlines()\n",
    "data[:14]"
   ]
  },
  {
   "cell_type": "code",
   "execution_count": 5,
   "metadata": {
    "collapsed": true,
    "nbpresent": {
     "id": "e8f77166-f391-4ab1-abc7-383e0514cb41"
    },
    "slideshow": {
     "slide_type": "skip"
    }
   },
   "outputs": [],
   "source": [
    "# parse data\n",
    "def find_between(s, first, last):\n",
    "    try:\n",
    "        start = s.index(first) + len(first)\n",
    "        end = s.index(last, start)\n",
    "        return s[start:end]\n",
    "    except ValueError:\n",
    "        return None\n",
    "    \n",
    "def find_before(s, last):\n",
    "    try:\n",
    "        end = s.index(last)\n",
    "        return s[:end]\n",
    "    except ValueError:\n",
    "        return None\n",
    "\n",
    "def find_extract(lst, target):\n",
    "    try:\n",
    "        for s in lst:\n",
    "            if target in s:\n",
    "                return find_between(s, '\\t', '\\r')    \n",
    "    except ValueError:\n",
    "        return None\n",
    "\n",
    "    \n",
    "content = []\n",
    "sub_cont = []\n",
    "count = 0\n",
    "for i in data:\n",
    "    sub_cont.append(i)\n",
    "    if i == '\\r\\n':\n",
    "        content.append(sub_cont)\n",
    "        sub_cont = []\n",
    "        count += 1\n",
    "\n",
    "whole = dict()\n",
    "whole[\"Title\"] = [find_before(content[i][0], \"\\r\\n\") for i in range(count)]\n",
    "whole[\"Title\"] = [None if w == \"Germanwings customer review\" else w for w in whole[\"Title\"]]\n",
    "name_nationality_time = [content[i][1] for i in range(count)]\n",
    "whole[\"Name\"] = [' '.join(i.split()[:2]) for i in name_nationality_time]\n",
    "whole[\"Nationality\"] = [find_between(i, '(', ')') for i in name_nationality_time]\n",
    "whole[\"Rating\"] = [content[i][2].split()[0] for i in range(count)]\n",
    "whole[\"Rating\"] = [None if w == \"na\" else w for w in whole[\"Rating\"]]\n",
    "whole[\"Comments\"] = [content[i][3] for i in range(count)]\n",
    "whole[\"Recommend\"] = [find_between(content[i][-2], '\\t', '\\r') for i in range(count)]\n",
    "whole[\"Cabin Flown\"] = [find_extract(content[i], \"Cabin Flown\") for i in range(count)]\n",
    "whole[\"Type Of Traveller\"] = [find_extract(content[i], \"Type Of Traveller\") for i in range(count)]\n",
    "whole[\"Route\"] = [find_extract(content[i], \"Route\") for i in range(count)]\n",
    "\n",
    "df = pd.DataFrame(whole)\n",
    "df.to_csv(\"data.csv\")"
   ]
  },
  {
   "cell_type": "markdown",
   "metadata": {
    "nbpresent": {
     "id": "b896b64d-12a0-4f82-bf0b-0686f13a124c"
    },
    "slideshow": {
     "slide_type": "slide"
    }
   },
   "source": [
    "### Structured data"
   ]
  },
  {
   "cell_type": "code",
   "execution_count": 6,
   "metadata": {
    "nbpresent": {
     "id": "a0d71a06-4253-45c4-9fe0-58eddb20a4b6"
    },
    "slideshow": {
     "slide_type": "-"
    }
   },
   "outputs": [
    {
     "data": {
      "text/html": [
       "<div>\n",
       "<style scoped>\n",
       "    .dataframe tbody tr th:only-of-type {\n",
       "        vertical-align: middle;\n",
       "    }\n",
       "\n",
       "    .dataframe tbody tr th {\n",
       "        vertical-align: top;\n",
       "    }\n",
       "\n",
       "    .dataframe thead th {\n",
       "        text-align: right;\n",
       "    }\n",
       "</style>\n",
       "<table border=\"1\" class=\"dataframe\">\n",
       "  <thead>\n",
       "    <tr style=\"text-align: right;\">\n",
       "      <th></th>\n",
       "      <th>Name</th>\n",
       "      <th>Nationality</th>\n",
       "      <th>Cabin Flown</th>\n",
       "      <th>Route</th>\n",
       "      <th>Type Of Traveller</th>\n",
       "      <th>Title</th>\n",
       "      <th>Comments</th>\n",
       "      <th>Rating</th>\n",
       "      <th>Recommend</th>\n",
       "    </tr>\n",
       "  </thead>\n",
       "  <tbody>\n",
       "    <tr>\n",
       "      <th>0</th>\n",
       "      <td>Brian McNamee</td>\n",
       "      <td>Canada</td>\n",
       "      <td>Economy</td>\n",
       "      <td>Stuttgart to Amsterdam</td>\n",
       "      <td>Couple Leisure</td>\n",
       "      <td>\"they have been unresponsive\"</td>\n",
       "      <td>We flew with Germanwings (or tried to) on Sept...</td>\n",
       "      <td>2</td>\n",
       "      <td>no</td>\n",
       "    </tr>\n",
       "    <tr>\n",
       "      <th>1</th>\n",
       "      <td>L Mouratidou</td>\n",
       "      <td>United Kingdom</td>\n",
       "      <td>Economy</td>\n",
       "      <td>Hamburg to London</td>\n",
       "      <td>Solo Leisure</td>\n",
       "      <td>\"I was refused some water\"</td>\n",
       "      <td>I am less than impressed with Germanwings serv...</td>\n",
       "      <td>3</td>\n",
       "      <td>no</td>\n",
       "    </tr>\n",
       "    <tr>\n",
       "      <th>2</th>\n",
       "      <td>H Mutschler</td>\n",
       "      <td>Germany</td>\n",
       "      <td>Economy</td>\n",
       "      <td>PMI to CGN</td>\n",
       "      <td>Couple Leisure</td>\n",
       "      <td>\"the service crew were friendly but nothing more\"</td>\n",
       "      <td>Flew from Palma de Mallorca to Cologne with Ge...</td>\n",
       "      <td>3</td>\n",
       "      <td>no</td>\n",
       "    </tr>\n",
       "    <tr>\n",
       "      <th>3</th>\n",
       "      <td>Oliver Numrich</td>\n",
       "      <td>Germany</td>\n",
       "      <td>None</td>\n",
       "      <td>Berlin-Tegel to London Heathrow</td>\n",
       "      <td>Business</td>\n",
       "      <td>\"no problems or delays, very friendly staff\"</td>\n",
       "      <td>Good flight from Berlin-Tegel to London Heathr...</td>\n",
       "      <td>10</td>\n",
       "      <td>yes</td>\n",
       "    </tr>\n",
       "    <tr>\n",
       "      <th>4</th>\n",
       "      <td>Andreas Huettenhoelscher</td>\n",
       "      <td>Germany</td>\n",
       "      <td>Economy</td>\n",
       "      <td>CGN to LHR</td>\n",
       "      <td>Business</td>\n",
       "      <td>\"I don't get why Germanwings is always late\"</td>\n",
       "      <td>I don't get why Germanwings is always late and...</td>\n",
       "      <td>4</td>\n",
       "      <td>no</td>\n",
       "    </tr>\n",
       "  </tbody>\n",
       "</table>\n",
       "</div>"
      ],
      "text/plain": [
       "                       Name     Nationality Cabin Flown  \\\n",
       "0             Brian McNamee          Canada     Economy   \n",
       "1              L Mouratidou  United Kingdom     Economy   \n",
       "2               H Mutschler         Germany     Economy   \n",
       "3            Oliver Numrich         Germany        None   \n",
       "4  Andreas Huettenhoelscher         Germany     Economy   \n",
       "\n",
       "                             Route Type Of Traveller  \\\n",
       "0           Stuttgart to Amsterdam    Couple Leisure   \n",
       "1                Hamburg to London      Solo Leisure   \n",
       "2                       PMI to CGN    Couple Leisure   \n",
       "3  Berlin-Tegel to London Heathrow          Business   \n",
       "4                       CGN to LHR          Business   \n",
       "\n",
       "                                               Title  \\\n",
       "0                      \"they have been unresponsive\"   \n",
       "1                         \"I was refused some water\"   \n",
       "2  \"the service crew were friendly but nothing more\"   \n",
       "3       \"no problems or delays, very friendly staff\"   \n",
       "4       \"I don't get why Germanwings is always late\"   \n",
       "\n",
       "                                            Comments Rating Recommend  \n",
       "0  We flew with Germanwings (or tried to) on Sept...      2        no  \n",
       "1  I am less than impressed with Germanwings serv...      3        no  \n",
       "2  Flew from Palma de Mallorca to Cologne with Ge...      3        no  \n",
       "3  Good flight from Berlin-Tegel to London Heathr...     10       yes  \n",
       "4  I don't get why Germanwings is always late and...      4        no  "
      ]
     },
     "execution_count": 6,
     "metadata": {},
     "output_type": "execute_result"
    }
   ],
   "source": [
    "cols = ['Name', 'Nationality', 'Cabin Flown', 'Route', 'Type Of Traveller', 'Title', 'Comments', 'Rating', 'Recommend']\n",
    "df[cols].head()"
   ]
  },
  {
   "cell_type": "code",
   "execution_count": 7,
   "metadata": {},
   "outputs": [
    {
     "name": "stdout",
     "output_type": "stream",
     "text": [
      "No. samples: 127\n"
     ]
    }
   ],
   "source": [
    "print(\"No. samples:\", df.count()[2])"
   ]
  },
  {
   "cell_type": "markdown",
   "metadata": {
    "nbpresent": {
     "id": "87185a67-6884-4dcf-a3f9-8d176298a828"
    },
    "slideshow": {
     "slide_type": "slide"
    }
   },
   "source": [
    "## Data analysis\n",
    "### The missing values"
   ]
  },
  {
   "cell_type": "code",
   "execution_count": 8,
   "metadata": {
    "nbpresent": {
     "id": "f73adbb5-221d-4f1e-9dc2-80e504e62c72"
    },
    "slideshow": {
     "slide_type": "-"
    }
   },
   "outputs": [
    {
     "data": {
      "text/html": [
       "<div>\n",
       "<style scoped>\n",
       "    .dataframe tbody tr th:only-of-type {\n",
       "        vertical-align: middle;\n",
       "    }\n",
       "\n",
       "    .dataframe tbody tr th {\n",
       "        vertical-align: top;\n",
       "    }\n",
       "\n",
       "    .dataframe thead th {\n",
       "        text-align: right;\n",
       "    }\n",
       "</style>\n",
       "<table border=\"1\" class=\"dataframe\">\n",
       "  <thead>\n",
       "    <tr style=\"text-align: right;\">\n",
       "      <th></th>\n",
       "      <th>number of NaN</th>\n",
       "      <th>rate of NaN</th>\n",
       "    </tr>\n",
       "  </thead>\n",
       "  <tbody>\n",
       "    <tr>\n",
       "      <th>Comments</th>\n",
       "      <td>0.0</td>\n",
       "      <td>0.000000</td>\n",
       "    </tr>\n",
       "    <tr>\n",
       "      <th>Name</th>\n",
       "      <td>0.0</td>\n",
       "      <td>0.000000</td>\n",
       "    </tr>\n",
       "    <tr>\n",
       "      <th>Recommend</th>\n",
       "      <td>0.0</td>\n",
       "      <td>0.000000</td>\n",
       "    </tr>\n",
       "    <tr>\n",
       "      <th>Nationality</th>\n",
       "      <td>12.0</td>\n",
       "      <td>0.094488</td>\n",
       "    </tr>\n",
       "    <tr>\n",
       "      <th>Cabin Flown</th>\n",
       "      <td>13.0</td>\n",
       "      <td>0.102362</td>\n",
       "    </tr>\n",
       "    <tr>\n",
       "      <th>Rating</th>\n",
       "      <td>13.0</td>\n",
       "      <td>0.102362</td>\n",
       "    </tr>\n",
       "    <tr>\n",
       "      <th>Route</th>\n",
       "      <td>113.0</td>\n",
       "      <td>0.889764</td>\n",
       "    </tr>\n",
       "    <tr>\n",
       "      <th>Type Of Traveller</th>\n",
       "      <td>113.0</td>\n",
       "      <td>0.889764</td>\n",
       "    </tr>\n",
       "    <tr>\n",
       "      <th>Title</th>\n",
       "      <td>118.0</td>\n",
       "      <td>0.929134</td>\n",
       "    </tr>\n",
       "  </tbody>\n",
       "</table>\n",
       "</div>"
      ],
      "text/plain": [
       "                   number of NaN  rate of NaN\n",
       "Comments                     0.0     0.000000\n",
       "Name                         0.0     0.000000\n",
       "Recommend                    0.0     0.000000\n",
       "Nationality                 12.0     0.094488\n",
       "Cabin Flown                 13.0     0.102362\n",
       "Rating                      13.0     0.102362\n",
       "Route                      113.0     0.889764\n",
       "Type Of Traveller          113.0     0.889764\n",
       "Title                      118.0     0.929134"
      ]
     },
     "execution_count": 8,
     "metadata": {},
     "output_type": "execute_result"
    }
   ],
   "source": [
    "data_null = dict()\n",
    "for column in df.columns:\n",
    "    n_nulls = df[column].isnull().sum()\n",
    "    data_null[column] = [n_nulls, n_nulls*1.0/127]\n",
    "\n",
    "df_null = pd.DataFrame(data_null, index=['number of NaN', 'rate of NaN']).T.sort_values(\"number of NaN\")\n",
    "df_null"
   ]
  },
  {
   "cell_type": "code",
   "execution_count": 9,
   "metadata": {
    "nbpresent": {
     "id": "5cffbaa1-f901-4e1e-bc3e-7c87700c207c"
    },
    "slideshow": {
     "slide_type": "subslide"
    }
   },
   "outputs": [
    {
     "data": {
      "image/png": "[encoded data removed]",
      "text/plain": [
       "<matplotlib.figure.Figure at 0x104907950>"
      ]
     },
     "metadata": {},
     "output_type": "display_data"
    }
   ],
   "source": [
    "df_null[\"rate of NaN\"].plot(kind=\"bar\", color=colors[0])\n",
    "plt.show()"
   ]
  },
  {
   "cell_type": "markdown",
   "metadata": {
    "nbpresent": {
     "id": "b62b4143-9c6c-4067-a146-8a3c9db84a42"
    },
    "slideshow": {
     "slide_type": "slide"
    }
   },
   "source": [
    "### Nationality"
   ]
  },
  {
   "cell_type": "code",
   "execution_count": 10,
   "metadata": {
    "nbpresent": {
     "id": "d85a5f02-57c4-4ba0-8b86-36551690e71f"
    }
   },
   "outputs": [
    {
     "data": {
      "image/png": "[encoded data removed]",
      "text/plain": [
       "<matplotlib.figure.Figure at 0x1a0c056350>"
      ]
     },
     "metadata": {},
     "output_type": "display_data"
    }
   ],
   "source": [
    "nationality = df[[\"Nationality\", \"Recommend\"]].fillna(' NaN').groupby([\"Nationality\"])[\"Recommend\"].value_counts().unstack()\n",
    "nationality.plot(kind='bar', stacked=True)\n",
    "plt.show()"
   ]
  },
  {
   "cell_type": "markdown",
   "metadata": {
    "nbpresent": {
     "id": "b4977910-6771-411c-9f98-0d9b22a7a7e3"
    },
    "slideshow": {
     "slide_type": "slide"
    }
   },
   "source": [
    "### Cabin Flown"
   ]
  },
  {
   "cell_type": "code",
   "execution_count": 11,
   "metadata": {
    "nbpresent": {
     "id": "9eaf53b7-fed3-4d73-9c0c-1c094043c40a"
    },
    "slideshow": {
     "slide_type": "-"
    }
   },
   "outputs": [
    {
     "data": {
      "image/png": "[encoded data removed]",
      "text/plain": [
       "<matplotlib.figure.Figure at 0x105723bd0>"
      ]
     },
     "metadata": {},
     "output_type": "display_data"
    }
   ],
   "source": [
    "cabin = df[[\"Cabin Flown\", \"Recommend\"]].fillna(' NaN').groupby([\"Cabin Flown\"])[\"Recommend\"].value_counts().unstack()\n",
    "cabin.plot(kind='bar', stacked=True)\n",
    "plt.show()"
   ]
  },
  {
   "cell_type": "markdown",
   "metadata": {
    "nbpresent": {
     "id": "610827d1-8635-4367-99bd-70776015a3fd"
    },
    "slideshow": {
     "slide_type": "slide"
    }
   },
   "source": [
    "### Rating"
   ]
  },
  {
   "cell_type": "code",
   "execution_count": 12,
   "metadata": {
    "nbpresent": {
     "id": "5db19f85-3c5c-4677-a437-58577f6f80a8"
    },
    "slideshow": {
     "slide_type": "-"
    }
   },
   "outputs": [
    {
     "data": {
      "image/png": "[encoded data removed]",
      "text/plain": [
       "<matplotlib.figure.Figure at 0x1a0c056e10>"
      ]
     },
     "metadata": {},
     "output_type": "display_data"
    }
   ],
   "source": [
    "rate = df[[\"Rating\", \"Recommend\"]].fillna(' NaN').groupby([\"Rating\"])[\"Recommend\"].value_counts().unstack()\n",
    "c = [' NaN', '1', '2', '3', '4', '5', '6', '7', '8', '9', '10']\n",
    "rate.reindex(c).plot(kind='bar', stacked=True)\n",
    "plt.show()"
   ]
  },
  {
   "cell_type": "markdown",
   "metadata": {
    "nbpresent": {
     "id": "05540c61-b5c1-4842-bd4f-bbc6c9b1a048"
    },
    "slideshow": {
     "slide_type": "slide"
    }
   },
   "source": [
    "### Recommendation"
   ]
  },
  {
   "cell_type": "code",
   "execution_count": 13,
   "metadata": {
    "nbpresent": {
     "id": "0945d0bb-9351-46a7-90d7-8b63862d8285"
    },
    "slideshow": {
     "slide_type": "-"
    }
   },
   "outputs": [
    {
     "name": "stdout",
     "output_type": "stream",
     "text": [
      "no     65\n",
      "yes    62\n",
      "Name: Recommend, dtype: int64\n"
     ]
    },
    {
     "data": {
      "image/png": "[encoded data removed]",
      "text/plain": [
       "<matplotlib.figure.Figure at 0x1a0c86da50>"
      ]
     },
     "metadata": {},
     "output_type": "display_data"
    }
   ],
   "source": [
    "recommend = df[\"Recommend\"].value_counts()\n",
    "print(recommend)\n",
    "recommend.plot(kind='bar')\n",
    "plt.xlabel(\"Recommend\")\n",
    "plt.show()"
   ]
  },
  {
   "cell_type": "markdown",
   "metadata": {
    "nbpresent": {
     "id": "3bb632d4-26ed-4f3d-95e1-55bfaecde154"
    },
    "slideshow": {
     "slide_type": "skip"
    }
   },
   "source": [
    "### Summary\n",
    "\n",
    "- 127 samples in total.\n",
    "- Most of the customers are from Germany and United Kingdom.\n",
    "- Many missing data: improve data collection process.\n",
    "- Equal positive and negative recommendations: improve the services according to the negative complaints.\n",
    "- Balenced data for machine learning application."
   ]
  },
  {
   "cell_type": "markdown",
   "metadata": {
    "collapsed": true,
    "nbpresent": {
     "id": "65f62a9d-9fd4-4db8-895b-92a18c786b6e"
    },
    "slideshow": {
     "slide_type": "slide"
    }
   },
   "source": [
    "## Modeling\n",
    "\n",
    "Sentiment analysis <br>\n",
    "Quickly detect negative comments and make quick response, so as to improve the customer service.\n",
    "\n",
    "Inputs: Comments <br>\n",
    "Outputs: Recommendation (Yes or No)\n",
    "\n",
    "<br>\n",
    "<br>\n",
    "<br>\n",
    "Ref: https://blog.insightsatlas.com/7-benefits-of-sentiment-analysis-you-cant-overlook"
   ]
  },
  {
   "cell_type": "code",
   "execution_count": 14,
   "metadata": {
    "collapsed": true,
    "nbpresent": {
     "id": "64f18f83-d59c-4a25-882a-1c7a1f43fc0c"
    },
    "slideshow": {
     "slide_type": "skip"
    }
   },
   "outputs": [],
   "source": [
    "from sklearn.model_selection import train_test_split, cross_val_score, KFold\n",
    "from sklearn.feature_extraction.text import TfidfVectorizer\n",
    "from sklearn.naive_bayes import GaussianNB\n",
    "from sklearn.feature_selection import SelectPercentile, f_classif, chi2\n",
    "from sklearn.metrics import confusion_matrix\n",
    "import itertools"
   ]
  },
  {
   "cell_type": "markdown",
   "metadata": {
    "nbpresent": {
     "id": "2c7fd939-0e68-41ed-b63d-7f1a54e31114"
    },
    "slideshow": {
     "slide_type": "slide"
    }
   },
   "source": [
    "### data pre-processing\n"
   ]
  },
  {
   "cell_type": "code",
   "execution_count": 15,
   "metadata": {
    "nbpresent": {
     "id": "c9da8525-3f0a-4e3d-85ca-d0810bce4eb3"
    },
    "slideshow": {
     "slide_type": "-"
    }
   },
   "outputs": [
    {
     "name": "stdout",
     "output_type": "stream",
     "text": [
      "No. train-test samples: 101 26\n",
      "Train samples:\n",
      "no     52\n",
      "yes    49\n",
      "Name: Recommend, dtype: int64\n"
     ]
    }
   ],
   "source": [
    "# split the samples into training and testing sets\n",
    "X = df[\"Comments\"]\n",
    "y = df[\"Recommend\"]\n",
    "catelog = df[\"Recommend\"].unique()\n",
    "X_train, X_test, y_train, y_test = train_test_split(X, y, test_size=0.2, random_state=99, stratify=y)\n",
    "\n",
    "print(\"No. train-test samples:\", y_train.shape[0], y_test.shape[0])\n",
    "print(\"Train samples:\")\n",
    "print(y_train.value_counts())"
   ]
  },
  {
   "cell_type": "markdown",
   "metadata": {
    "nbpresent": {
     "id": "0aad9f5b-94fd-4771-9825-de469a7b03a5"
    },
    "slideshow": {
     "slide_type": "slide"
    }
   },
   "source": [
    "### featrue engineering\n",
    "Bag of words:\n",
    "- <b>Counting:</b> the occurrences of words in each document.\n",
    "- <b>Tf-idf (term-frequency inverse document frequency):</b> reduce the weights of more common words like (the, is, an etc.) which occurs in all document\n",
    "\n",
    "Ref: http://scikit-learn.org/stable/modules/feature_extraction.html#text-feature-extraction"
   ]
  },
  {
   "cell_type": "code",
   "execution_count": 16,
   "metadata": {
    "nbpresent": {
     "id": "d0ff77fc-6f1e-4270-83c8-a481650d6940"
    },
    "slideshow": {
     "slide_type": "-"
    }
   },
   "outputs": [
    {
     "name": "stdout",
     "output_type": "stream",
     "text": [
      "After text vectorization,\n",
      "training set: (101, 5894) \n",
      "testing set: (26, 5894)\n"
     ]
    }
   ],
   "source": [
    "# text vectorization\n",
    "vectorizer = TfidfVectorizer(max_df=0.9, decode_error='ignore', ngram_range=(1,2), stop_words=\"english\")\n",
    "X_train_transformed = vectorizer.fit_transform(X_train)\n",
    "X_test_transformed = vectorizer.transform(X_test)\n",
    "\n",
    "print(\"After text vectorization,\\ntraining set:\", X_train_transformed.shape, \n",
    "      \"\\ntesting set:\", X_test_transformed.shape)"
   ]
  },
  {
   "cell_type": "markdown",
   "metadata": {
    "slideshow": {
     "slide_type": "subslide"
    }
   },
   "source": [
    "Feature selection, reduce the dimension by selecting the best features based on Chi2 statistics"
   ]
  },
  {
   "cell_type": "code",
   "execution_count": 17,
   "metadata": {
    "nbpresent": {
     "id": "c448b021-1d7c-4552-9313-8968859b600f"
    },
    "slideshow": {
     "slide_type": "-"
    }
   },
   "outputs": [
    {
     "name": "stdout",
     "output_type": "stream",
     "text": [
      "After text reduing dimension,\n",
      "training set: (101, 590) \n",
      "testing set: (26, 590)\n"
     ]
    }
   ],
   "source": [
    "# feature selection, reduce feature dimension\n",
    "\n",
    "def reduce_dim(X_train, X_test, y_train, percentile):\n",
    "    selector = SelectPercentile(chi2, percentile=percentile)\n",
    "    selector.fit(X_train, y_train)\n",
    "    X_train_reduced = selector.transform(X_train).toarray()\n",
    "    X_test_reduced = selector.transform(X_test).toarray()\n",
    "    return X_train_reduced, X_test_reduced\n",
    "\n",
    "X_train_reduced, X_test_reduced = reduce_dim(X_train_transformed, \n",
    "                                             X_test_transformed, \n",
    "                                             y_train, percentile=10)\n",
    "\n",
    "print(\"After text reduing dimension,\\ntraining set:\", X_train_reduced.shape, \"\\ntesting set:\", X_test_reduced.shape)"
   ]
  },
  {
   "cell_type": "code",
   "execution_count": 18,
   "metadata": {
    "collapsed": true,
    "nbpresent": {
     "id": "704cd620-d5dc-47ba-9e4f-f3297240fd04"
    },
    "slideshow": {
     "slide_type": "skip"
    }
   },
   "outputs": [],
   "source": [
    "def plot_confusion_matrix(cm, classes,\n",
    "                          title='Confusion matrix',\n",
    "                          cmap=plt.cm.Blues):\n",
    "    \n",
    "    plt.style.use('seaborn-dark')\n",
    "    plt.figure(figsize=(6, 5))\n",
    "    plt.imshow(cm, interpolation='nearest', cmap=cmap)\n",
    "    plt.title(title, fontsize=18)\n",
    "    plt.colorbar()\n",
    "    tick_marks = np.arange(len(classes))\n",
    "    plt.xticks(tick_marks, classes, fontsize=12)\n",
    "    plt.yticks(tick_marks, classes, fontsize=12)\n",
    "\n",
    "    thresh = cm.max() *4 / 5.\n",
    "    for i, j in itertools.product(range(cm.shape[0]), range(cm.shape[1])):\n",
    "        plt.text(j, i, cm[i, j], fontsize=15,\n",
    "                 horizontalalignment=\"center\",\n",
    "                 color=\"white\" if cm[i, j] > thresh else \"black\")\n",
    "\n",
    "    plt.tight_layout()\n",
    "    plt.ylabel('True label', fontsize=15)\n",
    "    plt.xlabel('Predicted label', fontsize=15)"
   ]
  },
  {
   "cell_type": "markdown",
   "metadata": {
    "slideshow": {
     "slide_type": "slide"
    }
   },
   "source": [
    "### modeling - Naive Bayes"
   ]
  },
  {
   "cell_type": "code",
   "execution_count": 19,
   "metadata": {
    "nbpresent": {
     "id": "b5ea101e-b0b1-4138-bb2e-f53b7780c013"
    },
    "slideshow": {
     "slide_type": "-"
    }
   },
   "outputs": [
    {
     "name": "stdout",
     "output_type": "stream",
     "text": [
      "Accuracy of test set: 65.38%\n"
     ]
    },
    {
     "data": {
      "image/png": "[encoded data removed]",
      "text/plain": [
       "<matplotlib.figure.Figure at 0x1a0c5a2e90>"
      ]
     },
     "metadata": {},
     "output_type": "display_data"
    }
   ],
   "source": [
    "# model\n",
    "clf = GaussianNB()\n",
    "clf.fit(X_train_reduced, y_train)\n",
    "\n",
    "print(\"Accuracy of test set: {:.2%}\".format(clf.score(X_test_reduced, y_test)))\n",
    "\n",
    "y_pred = clf.predict(X_test_reduced)\n",
    "cm = confusion_matrix(y_test.values, y_pred)\n",
    "\n",
    "class_names = np.array(['No', 'Yes'])\n",
    "plot_confusion_matrix(cm, class_names)"
   ]
  },
  {
   "cell_type": "markdown",
   "metadata": {
    "slideshow": {
     "slide_type": "slide"
    }
   },
   "source": [
    "### k-fold cross validation"
   ]
  },
  {
   "cell_type": "code",
   "execution_count": 20,
   "metadata": {
    "nbpresent": {
     "id": "edd1d538-8a01-42ff-afde-9ae4b2fa560d"
    },
    "slideshow": {
     "slide_type": "-"
    }
   },
   "outputs": [
    {
     "name": "stdout",
     "output_type": "stream",
     "text": [
      "CV results of Naive Bayes\n",
      "mean: 65.90% \n",
      "standard deviation: 15.53%\n"
     ]
    }
   ],
   "source": [
    "## cross validation\n",
    "vectorizer = TfidfVectorizer(max_df=0.9, decode_error='ignore', ngram_range=(1,2))\n",
    "X_transformed = vectorizer.fit_transform(X)\n",
    "\n",
    "kf = KFold(n_splits=10)\n",
    "n = np.arange(X.shape[0])\n",
    "scores = []\n",
    "for train, test in kf.split(n):\n",
    "    X_train, X_test, y_train, y_test = X_transformed[train], X_transformed[test], y[train], y[test]\n",
    "    X_train_reduced, X_test_reduced = reduce_dim(X_train, \n",
    "                                             X_test, \n",
    "                                             y_train, percentile=20)\n",
    "    \n",
    "    clf = GaussianNB().fit(X_train_reduced, y_train)\n",
    "    scores.append(clf.score(X_test_reduced, y_test))\n",
    "\n",
    "print(\"CV results of Naive Bayes\\nmean: {:.2%}\".format(np.mean(scores)),\n",
    "      \"\\nstandard deviation: {:.2%}\".format(np.std(scores)))"
   ]
  },
  {
   "cell_type": "markdown",
   "metadata": {
    "nbpresent": {
     "id": "dd1e8d8c-9efe-476f-800e-054332e87906"
    },
    "slideshow": {
     "slide_type": "slide"
    }
   },
   "source": [
    "### compare different models\n",
    "Logistic Regression, Random Forest, Support Vector Machine and Naive Bayes."
   ]
  },
  {
   "cell_type": "code",
   "execution_count": 21,
   "metadata": {
    "collapsed": true,
    "nbpresent": {
     "id": "0538cd8e-d45a-4f4c-b5da-80334cb54727"
    },
    "slideshow": {
     "slide_type": "skip"
    }
   },
   "outputs": [],
   "source": [
    "## compare different models\n",
    "\n",
    "from sklearn.linear_model import LogisticRegression\n",
    "from sklearn.ensemble import RandomForestClassifier\n",
    "from sklearn.svm import LinearSVC\n",
    "from sklearn.model_selection import cross_val_score\n",
    "\n",
    "models = [\n",
    "    RandomForestClassifier(n_estimators=100, max_depth=3, random_state=99),\n",
    "    LinearSVC(),\n",
    "    GaussianNB(),\n",
    "    LogisticRegression(random_state=99),\n",
    "]\n",
    "\n",
    "CV = 10\n",
    "df_plot = pd.DataFrame(index=range(CV * len(models)))\n",
    "df_mean_std = pd.DataFrame()\n",
    "entries = []\n",
    "\n",
    "for model in models:\n",
    "    model_name = model.__class__.__name__\n",
    "    accuracies = cross_val_score(model, X_transformed.toarray(), y, scoring='accuracy', cv=CV)\n",
    "    df_mean_std[model_name] = accuracies\n",
    "    for fold_idx, accuracy in enumerate(accuracies):\n",
    "        entries.append((model_name, fold_idx, accuracy))\n",
    "\n",
    "df_plot = pd.DataFrame(entries, columns=['model_name', 'fold_idx', 'accuracy'])"
   ]
  },
  {
   "cell_type": "code",
   "execution_count": 22,
   "metadata": {
    "nbpresent": {
     "id": "9498e854-4cec-402d-a555-d4fccc95aa5b"
    },
    "slideshow": {
     "slide_type": "-"
    }
   },
   "outputs": [
    {
     "data": {
      "text/html": [
       "<div>\n",
       "<style scoped>\n",
       "    .dataframe tbody tr th:only-of-type {\n",
       "        vertical-align: middle;\n",
       "    }\n",
       "\n",
       "    .dataframe tbody tr th {\n",
       "        vertical-align: top;\n",
       "    }\n",
       "\n",
       "    .dataframe thead th {\n",
       "        text-align: right;\n",
       "    }\n",
       "</style>\n",
       "<table border=\"1\" class=\"dataframe\">\n",
       "  <thead>\n",
       "    <tr style=\"text-align: right;\">\n",
       "      <th></th>\n",
       "      <th>RandomForestClassifier</th>\n",
       "      <th>LinearSVC</th>\n",
       "      <th>GaussianNB</th>\n",
       "      <th>LogisticRegression</th>\n",
       "    </tr>\n",
       "  </thead>\n",
       "  <tbody>\n",
       "    <tr>\n",
       "      <th>mean</th>\n",
       "      <td>0.696337</td>\n",
       "      <td>0.788187</td>\n",
       "      <td>0.637454</td>\n",
       "      <td>0.774542</td>\n",
       "    </tr>\n",
       "    <tr>\n",
       "      <th>std</th>\n",
       "      <td>0.143044</td>\n",
       "      <td>0.221311</td>\n",
       "      <td>0.184651</td>\n",
       "      <td>0.172612</td>\n",
       "    </tr>\n",
       "  </tbody>\n",
       "</table>\n",
       "</div>"
      ],
      "text/plain": [
       "      RandomForestClassifier  LinearSVC  GaussianNB  LogisticRegression\n",
       "mean                0.696337   0.788187    0.637454            0.774542\n",
       "std                 0.143044   0.221311    0.184651            0.172612"
      ]
     },
     "execution_count": 22,
     "metadata": {},
     "output_type": "execute_result"
    }
   ],
   "source": [
    "df_mean_std.describe().iloc[1:3,:]"
   ]
  },
  {
   "cell_type": "code",
   "execution_count": 26,
   "metadata": {
    "nbpresent": {
     "id": "62269368-a382-4b0e-9dbe-cec06377e7a3"
    },
    "slideshow": {
     "slide_type": "-"
    }
   },
   "outputs": [
    {
     "data": {
      "image/png": "[encoded data removed]",
      "text/plain": [
       "<matplotlib.figure.Figure at 0x1a0a5dd090>"
      ]
     },
     "metadata": {},
     "output_type": "display_data"
    }
   ],
   "source": [
    "import seaborn as sns\n",
    "sns.set_style(\"whitegrid\")\n",
    "sns.boxplot(x='model_name', y='accuracy', data=df_plot, linewidth=2)\n",
    "sns.stripplot(x='model_name', y='accuracy', data=df_plot, \n",
    "              size=8, jitter=True, edgecolor=\"gray\", linewidth=1)\n",
    "plt.show()"
   ]
  },
  {
   "cell_type": "markdown",
   "metadata": {
    "nbpresent": {
     "id": "dac90d54-fb0d-4d4b-8411-ff86c730f28d"
    },
    "slideshow": {
     "slide_type": "slide"
    }
   },
   "source": [
    "## Conclusions\n",
    "\n",
    "* Customers are not motivated to write/complete the reviews.<br>\n",
    "solutions: motivate the customers, remind/persuade or give rewards.\n",
    "* We have too many negative comments.<br>\n",
    "* Constructed a prototype of ML application, which can be used to quickly detect the negative comments.<br>\n",
    "Further improvements: \n",
    "  - collect more data\n",
    "  - better feature engineering, eg. word2vec\n",
    "  - improve models, eg. hyperparameter tuning\n",
    "  - more sophisticated models, eg. GBT, deep learning\n",
    "\n",
    "\n",
    "<br>\n",
    "ref: <br>\n",
    "https://machinelearningmastery.com/develop-word-embeddings-python-gensim/ <br>\n",
    "http://www.wildml.com/2015/12/implementing-a-cnn-for-text-classification-in-tensorflow/\n"
   ]
  },
  {
   "cell_type": "markdown",
   "metadata": {
    "nbpresent": {
     "id": "1b4a3d81-2c45-4422-8cc7-54b52c26ef32"
    },
    "slideshow": {
     "slide_type": "skip"
    }
   },
   "source": [
    "### Further study with Word embeddings\n",
    "\n",
    "A word embedding is an approach to provide a vector representation of words that capture some informations about their meaning. The words with similar meanings are locally clustered within the embeddding space.\n",
    "\n",
    "Ref:<br> http://nadbordrozd.github.io/blog/2016/05/20/text-classification-with-word2vec/<br> https://machinelearningmastery.com/develop-word-embeddings-python-gensim/"
   ]
  },
  {
   "cell_type": "code",
   "execution_count": 25,
   "metadata": {
    "nbpresent": {
     "id": "b88e00c1-cf16-43e1-b8bc-d5804cc79f08"
    },
    "slideshow": {
     "slide_type": "skip"
    }
   },
   "outputs": [
    {
     "name": "stdout",
     "output_type": "stream",
     "text": [
      "[['flew', 'germanwings', 'tried', 'september', '30th', 'two', 'lengthy', 'delays', 'passengers', 'notified', 'flight', 'cancelled', 'return', 'checkin', 'counter', 'information', 'waiting', 'counter', 'another', '30', 'minutes', 'staff', 'began', 'issuing', 'refunds', 'providing', 'alternate', 'travel', 'options', 'passengers', 'point', 'quite', 'late', 'evening', 'limited', 'options', 'plus', '5', 'hours', 'planned', 'departure', 'managed', 'get', 'voucher', '3', 'passenger', 'get', 'flight', 'stuttgart', 'zurich', 'ongoing', 'connection', 'amsterdam', 'flights', 'swiss', 'made', 'flight', 'connector', 'held', 'back', 'waiting', '70', 'us', 'however', 'luggage', 'make', 'short', 'airline', 'illprepared', 'manage', 'offered', 'little', 'information', 'options', 'passengers', 'since', 'returning', 'home', 'attempting', 'contact', 'via', 'email', 'phone', 'calls', 'discuss', 'compensation', 'passenger', 'rights', 'brochure', 'unresponsive', 'good', 'way', 'run', 'business'], ['less', 'impressed', 'germanwings', 'service', 'say', 'least', 'first', 'connection', 'hamburg', 'stewardess', 'told', 'us', 'could', 'water', 'free', 'everything', 'charged', 'second', 'connection', 'hamburg', 'london', 'refused', 'water', 'despite', 'pregnant', 'feeling', 'well', 'find', 'disgusting', 'fact', 'passenger', 'offered', 'water', 'theyre', 'unwell', 'looked', 'way', 'needless', 'say', 'stewards', 'would', 'nice', 'passengers', 'booked', 'board', 'meals', 'bought', 'board', 'drinks'], ['flew', 'palma', 'mallorca', 'cologne', 'germanwings', 'checkin', 'done', 'less', '15', 'minutes', 'got', 'seats', 'row', '6', 'fine', 'planes', 'late', 'always', 'due', 'incoming', 'plane', 'late', 'general', 'problem', 'germanwings', 'fly', 'later', 'day', 'entertainment', 'whatsoever', 'service', 'crew', 'friendly', 'nothing', 'charge', 'eur', '250', '250ml', 'soft', 'drink', 'like', 'coke', 'sprite', 'paid', 'eur', '5', 'two', 'cans', 'make', 'eur', '10', 'litre', 'nothing', 'else', 'offered', 'nothing', 'special', 'miles', 'credited', 'even', 'miles', 'member']]\n"
     ]
    }
   ],
   "source": [
    "import nltk\n",
    "import re\n",
    "#nltk.download('stopwords')\n",
    "\n",
    "STOP_WORDS = nltk.corpus.stopwords.words()\n",
    "\n",
    "def clean_sentence(val):\n",
    "    regex = re.compile('([^\\s\\w]|_)+')\n",
    "    sentence = regex.sub('', val).lower()\n",
    "    sentence = sentence.split(\" \")\n",
    "    \n",
    "    for word in list(sentence):\n",
    "        if word in STOP_WORDS:\n",
    "            sentence.remove(word)\n",
    "        if word == \"\":\n",
    "            sentence.remove(word)\n",
    "                \n",
    "    sentence = \" \".join(sentence)\n",
    "    return sentence\n",
    "\n",
    "def build_corpus(data):\n",
    "    corpus = []\n",
    "    for item in data.iteritems():\n",
    "        word_list = item[1].split(\" \")\n",
    "        word_list = [x.replace(\"\\r\\n\",\"\") for x in word_list]\n",
    "        corpus.append(word_list)\n",
    "    return corpus\n",
    "\n",
    "data = df[\"Comments\"].apply(clean_sentence)\n",
    "corpus = build_corpus(data)\n",
    "print(corpus[:3])"
   ]
  },
  {
   "cell_type": "code",
   "execution_count": null,
   "metadata": {
    "nbpresent": {
     "id": "97bef98a-c1f9-4f5c-850b-c332723c9d60"
    },
    "slideshow": {
     "slide_type": "skip"
    }
   },
   "outputs": [],
   "source": [
    "from gensim.models import Word2Vec\n",
    "from sklearn.decomposition import PCA\n",
    "from matplotlib import pyplot\n",
    "\n",
    "model = Word2Vec(corpus, size=100, min_count=1)\n",
    "X_wv = model[model.wv.vocab]\n",
    "pca = PCA(n_components=2)\n",
    "result = pca.fit_transform(X_wv)"
   ]
  },
  {
   "cell_type": "code",
   "execution_count": null,
   "metadata": {
    "slideshow": {
     "slide_type": "skip"
    }
   },
   "outputs": [],
   "source": [
    "plt.figure(figsize=(10,10))\n",
    "pyplot.scatter(result[:150, 0], result[:150, 1])\n",
    "words = list(model.wv.vocab)\n",
    "for i, word in enumerate(words[:150]):\n",
    "    plt.annotate(word, xy=(result[i, 0], result[i, 1]))\n",
    "\n",
    "plt.show()"
   ]
  },
  {
   "cell_type": "code",
   "execution_count": null,
   "metadata": {
    "nbpresent": {
     "id": "44ac9489-ab92-4509-bfbb-347385b5a052"
    },
    "slideshow": {
     "slide_type": "skip"
    }
   },
   "outputs": [],
   "source": [
    "model.wv.most_similar('airline', topn=10)"
   ]
  },
  {
   "cell_type": "code",
   "execution_count": null,
   "metadata": {
    "nbpresent": {
     "id": "7b79f3cf-efe9-4c0b-8cd2-b1a292c6a2d8"
    },
    "slideshow": {
     "slide_type": "skip"
    }
   },
   "outputs": [],
   "source": [
    "from sklearn.pipeline import Pipeline\n",
    "from collections import defaultdict\n",
    "\n",
    "## from http://nadbordrozd.github.io/blog/2016/05/20/text-classification-with-word2vec/\n",
    "class MeanEmbeddingVectorizer(object):\n",
    "    def __init__(self, word2vec):\n",
    "        self.word2vec = word2vec\n",
    "        # if a text is empty we should return a vector of zeros\n",
    "        # with the same dimensionality as all the other vectors\n",
    "        self.dim = len(word2vec.itervalues().next())\n",
    "\n",
    "    def fit(self, X, y):\n",
    "        return self\n",
    "\n",
    "    def transform(self, X):\n",
    "        return np.array([\n",
    "            np.mean([self.word2vec[w] for w in words if w in self.word2vec]\n",
    "                    or [np.zeros(self.dim)], axis=0)\n",
    "            for words in X\n",
    "        ])\n",
    "    \n",
    "class TfidfEmbeddingVectorizer(object):\n",
    "    def __init__(self, word2vec):\n",
    "        self.word2vec = word2vec\n",
    "        self.word2weight = None\n",
    "        self.dim = len(word2vec.itervalues().next())\n",
    "\n",
    "    def fit(self, X, y):\n",
    "        tfidf = TfidfVectorizer(analyzer=lambda x: x)\n",
    "        tfidf.fit(X)\n",
    "        # if a word was never seen - it must be at least as infrequent\n",
    "        # as any of the known words - so the default idf is the max of \n",
    "        # known idf's\n",
    "        max_idf = max(tfidf.idf_)\n",
    "        self.word2weight = defaultdict(\n",
    "            lambda: max_idf,\n",
    "            [(w, tfidf.idf_[i]) for w, i in tfidf.vocabulary_.items()])\n",
    "\n",
    "        return self\n",
    "\n",
    "    def transform(self, X):\n",
    "        return np.array([\n",
    "                np.mean([self.word2vec[w] * self.word2weight[w]\n",
    "                         for w in words if w in self.word2vec] or\n",
    "                        [np.zeros(self.dim)], axis=0)\n",
    "                for words in X\n",
    "            ])\n",
    "\n",
    "w2v = dict(zip(model.wv.index2word, model.wv.vectors))\n",
    "\n",
    "rf_w2v_tfidf = Pipeline([\n",
    "    (\"word2vec vectorizer\", TfidfEmbeddingVectorizer(w2v)),\n",
    "    (\"random forest\", RandomForestClassifier(n_estimators=100, random_state=99))])\n",
    "accuracies = cross_val_score(rf_w2v_tfidf, X, y, scoring='accuracy', cv=CV)\n",
    "print(accuracies)\n"
   ]
  },
  {
   "cell_type": "code",
   "execution_count": null,
   "metadata": {
    "collapsed": true,
    "nbpresent": {
     "id": "2418a58d-cbf8-4efd-bbaa-d67e89784a6f"
    },
    "slideshow": {
     "slide_type": "skip"
    }
   },
   "outputs": [],
   "source": [
    "df_plot = pd.DataFrame(index=range(CV * len(models)))\n",
    "df_mean_std = pd.DataFrame()\n",
    "entries = []\n",
    "\n",
    "for model in models:\n",
    "    model_name = model.__class__.__name__\n",
    "    model_pip = Pipeline([(\"word2vec vectorizer\", TfidfEmbeddingVectorizer(w2v)),\n",
    "                          (model_name, model)])\n",
    "    accuracies = cross_val_score(model_pip, X, y, scoring='accuracy', cv=CV)\n",
    "    df_mean_std[model_name] = accuracies\n",
    "    for fold_idx, accuracy in enumerate(accuracies):\n",
    "        entries.append((model_name, fold_idx, accuracy))\n",
    "\n",
    "df_plot = pd.DataFrame(entries, columns=['model_name', 'fold_idx', 'accuracy'])"
   ]
  },
  {
   "cell_type": "markdown",
   "metadata": {
    "slideshow": {
     "slide_type": "skip"
    }
   },
   "source": [
    "### word2vec + different models"
   ]
  },
  {
   "cell_type": "code",
   "execution_count": null,
   "metadata": {
    "nbpresent": {
     "id": "ff9c81e5-6f89-439b-a876-d5dbd3504434"
    },
    "slideshow": {
     "slide_type": "skip"
    }
   },
   "outputs": [],
   "source": [
    "df_mean_std.describe().iloc[1:3,:]"
   ]
  },
  {
   "cell_type": "code",
   "execution_count": null,
   "metadata": {
    "nbpresent": {
     "id": "f9fbfc67-8349-4b49-bc4f-74d999eac896"
    },
    "slideshow": {
     "slide_type": "skip"
    }
   },
   "outputs": [],
   "source": [
    "sns.boxplot(x='model_name', y='accuracy', data=df_plot, linewidth=2)\n",
    "sns.stripplot(x='model_name', y='accuracy', data=df_plot, \n",
    "              size=8, jitter=True, edgecolor=\"gray\", linewidth=1)\n",
    "plt.show()"
   ]
  },
  {
   "cell_type": "markdown",
   "metadata": {
    "slideshow": {
     "slide_type": "skip"
    }
   },
   "source": [
    "The word imbedding has strong dependence on the size of training set."
   ]
  },
  {
   "cell_type": "code",
   "execution_count": null,
   "metadata": {
    "collapsed": true,
    "slideshow": {
     "slide_type": "skip"
    }
   },
   "outputs": [],
   "source": [
    "data_n = df[[\"Comments\", \"Recommend\"]].groupby([\"Recommend\"]).get_group(\"no\").Comments\n",
    "data_n.apply(clean_sentence)\n",
    "corpus_n = build_corpus(data)"
   ]
  },
  {
   "cell_type": "code",
   "execution_count": null,
   "metadata": {
    "slideshow": {
     "slide_type": "skip"
    }
   },
   "outputs": [],
   "source": [
    "model = Word2Vec(corpus_n, size=100, min_count=1)\n",
    "X_wv_n = model[model.wv.vocab]\n",
    "pca = PCA(n_components=2)\n",
    "result = pca.fit_transform(X_wv_n)\n",
    "\n",
    "plt.figure(figsize=(10,10))\n",
    "pyplot.scatter(result[:100, 0], result[:100, 1])\n",
    "words = list(model.wv.vocab)\n",
    "for i, word in enumerate(words[:100]):\n",
    "    plt.annotate(word, xy=(result[i, 0], result[i, 1]))\n",
    "\n",
    "plt.show()"
   ]
  }
 ],
 "metadata": {
  "anaconda-cloud": {},
  "kernelspec": {
   "display_name": "Python [conda env:py2]",
   "language": "python",
   "name": "conda-env-py2-py"
  },
  "language_info": {
   "codemirror_mode": {
    "name": "ipython",
    "version": 2
   },
   "file_extension": ".py",
   "mimetype": "text/x-python",
   "name": "python",
   "nbconvert_exporter": "python",
   "pygments_lexer": "ipython2",
   "version": "2.7.11"
  },
  "nbpresent": {
   "slides": {
    "1125590f-d5a2-438e-88cc-4935e8fbfef9": {
     "id": "1125590f-d5a2-438e-88cc-4935e8fbfef9",
     "prev": "2de9ee3d-88c3-458d-b089-1d5f1434ae2c",
     "regions": {
      "6dcbbac4-63fc-4fae-a4f3-b112bd89d7e5": {
       "attrs": {
        "height": 0.4,
        "width": 0.8,
        "x": 0.1,
        "y": 0.5
       },
       "content": {
        "cell": "f9fbfc67-8349-4b49-bc4f-74d999eac896",
        "part": "whole"
       },
       "id": "6dcbbac4-63fc-4fae-a4f3-b112bd89d7e5"
      },
      "9bb872d4-ae1b-40de-9854-83e7e8937e91": {
       "attrs": {
        "height": 0.8,
        "width": 0.8,
        "x": 0.1,
        "y": 0.1
       },
       "content": {
        "cell": "2418a58d-cbf8-4efd-bbaa-d67e89784a6f",
        "part": "whole"
       },
       "id": "9bb872d4-ae1b-40de-9854-83e7e8937e91"
      },
      "b3d9dda0-9378-4074-999b-a52b22807dc5": {
       "attrs": {
        "height": 0.4,
        "width": 0.8,
        "x": 0.1,
        "y": 0.5
       },
       "content": {
        "cell": "ff9c81e5-6f89-439b-a876-d5dbd3504434",
        "part": "whole"
       },
       "id": "b3d9dda0-9378-4074-999b-a52b22807dc5"
      }
     }
    },
    "12102ed7-27e5-404a-a1c9-3e5573338f1b": {
     "id": "12102ed7-27e5-404a-a1c9-3e5573338f1b",
     "prev": "3c01bd22-0e77-444e-9fdf-707b78423687",
     "regions": {
      "d9aab748-dbce-4501-b1b7-5b365391ffc1": {
       "attrs": {
        "height": 0.8,
        "width": 0.8,
        "x": 0.1,
        "y": 0.1
       },
       "content": {
        "cell": "133740f2-5705-44c5-a4a1-00161af241d1",
        "part": "whole"
       },
       "id": "d9aab748-dbce-4501-b1b7-5b365391ffc1"
      }
     }
    },
    "1f72457c-db26-4345-9567-96fc0fdcfc95": {
     "id": "1f72457c-db26-4345-9567-96fc0fdcfc95",
     "prev": "1125590f-d5a2-438e-88cc-4935e8fbfef9",
     "regions": {
      "0a8f2f9a-12c8-49ee-8337-857e08a9fd8e": {
       "attrs": {
        "height": 0.8,
        "width": 0.8,
        "x": 0.1,
        "y": 0.1
       },
       "content": {
        "cell": "dac90d54-fb0d-4d4b-8411-ff86c730f28d",
        "part": "whole"
       },
       "id": "0a8f2f9a-12c8-49ee-8337-857e08a9fd8e"
      },
      "c243f69f-ae76-4322-9b5e-b37fbaae73b7": {
       "attrs": {
        "height": 0.4,
        "width": 0.8,
        "x": 0.1,
        "y": 0.5
       },
       "content": {
        "cell": "8f814673-ff77-4f87-a54f-9e2984893a28",
        "part": "whole"
       },
       "id": "c243f69f-ae76-4322-9b5e-b37fbaae73b7"
      }
     }
    },
    "221eb44a-9c7f-4a30-af04-63e9d78d1255": {
     "id": "221eb44a-9c7f-4a30-af04-63e9d78d1255",
     "prev": "56b463a7-9957-4ee1-8a99-862feeef7f3e",
     "regions": {
      "13ec28b4-03aa-454f-88dd-b32668c29c61": {
       "attrs": {
        "height": 0.8,
        "width": 0.8,
        "x": 0.1,
        "y": 0.1
       },
       "content": {
        "cell": "b5ea101e-b0b1-4138-bb2e-f53b7780c013",
        "part": "whole"
       },
       "id": "13ec28b4-03aa-454f-88dd-b32668c29c61"
      }
     }
    },
    "2de9ee3d-88c3-458d-b089-1d5f1434ae2c": {
     "id": "2de9ee3d-88c3-458d-b089-1d5f1434ae2c",
     "prev": "d20691c1-f420-44f3-aada-070438fccd4e",
     "regions": {
      "dfd0b0cc-f29c-4204-b2cc-aa7d6497085b": {
       "attrs": {
        "height": 0.8,
        "width": 0.8,
        "x": 0.1,
        "y": 0.1
       },
       "content": {
        "cell": "44ac9489-ab92-4509-bfbb-347385b5a052",
        "part": "whole"
       },
       "id": "dfd0b0cc-f29c-4204-b2cc-aa7d6497085b"
      }
     }
    },
    "3c01bd22-0e77-444e-9fdf-707b78423687": {
     "id": "3c01bd22-0e77-444e-9fdf-707b78423687",
     "prev": null,
     "regions": {
      "f3c0d5dc-2a8e-4ccf-aaa0-519c6c996b5a": {
       "attrs": {
        "height": 0.8,
        "width": 0.8,
        "x": 0.1,
        "y": 0.1
       },
       "content": {
        "cell": "a7a8cc3c-7f58-4977-a0b7-72d4d651afbe",
        "part": "whole"
       },
       "id": "f3c0d5dc-2a8e-4ccf-aaa0-519c6c996b5a"
      }
     }
    },
    "3fe166c9-3edc-4664-911b-7879af25f762": {
     "id": "3fe166c9-3edc-4664-911b-7879af25f762",
     "prev": "a5c02742-7dab-4458-abd5-d555bdca622f",
     "regions": {
      "0e35c3e9-d4f5-428e-ac78-870808e38956": {
       "attrs": {
        "height": 0.8,
        "width": 0.8,
        "x": 0.1,
        "y": 0.1
       },
       "content": {
        "cell": "9498e854-4cec-402d-a555-d4fccc95aa5b",
        "part": "whole"
       },
       "id": "0e35c3e9-d4f5-428e-ac78-870808e38956"
      }
     }
    },
    "5246ebd0-3fce-4886-a107-cee7945b5810": {
     "id": "5246ebd0-3fce-4886-a107-cee7945b5810",
     "prev": "75648e18-9f4d-43c3-9010-07b81243971f",
     "regions": {
      "3d86370e-a5a7-4e14-bf7e-f1a31babf6b0": {
       "attrs": {
        "height": 0.4,
        "width": 0.8,
        "x": 0.1,
        "y": 0.5
       },
       "content": {
        "cell": "9eaf53b7-fed3-4d73-9c0c-1c094043c40a",
        "part": "whole"
       },
       "id": "3d86370e-a5a7-4e14-bf7e-f1a31babf6b0"
      },
      "f38ada30-eba8-476a-9750-cbe13271ce93": {
       "attrs": {
        "height": 0.8,
        "width": 0.8,
        "x": 0.1,
        "y": 0.1
       },
       "content": {
        "cell": "b4977910-6771-411c-9f98-0d9b22a7a7e3",
        "part": "whole"
       },
       "id": "f38ada30-eba8-476a-9750-cbe13271ce93"
      }
     }
    },
    "56b463a7-9957-4ee1-8a99-862feeef7f3e": {
     "id": "56b463a7-9957-4ee1-8a99-862feeef7f3e",
     "prev": "aab34ea5-4745-4194-a1e8-68ec905196d3",
     "regions": {
      "2f0c8d23-a59f-48f6-99a1-59d041a7fedf": {
       "attrs": {
        "height": 0.8,
        "width": 0.8,
        "x": 0.1,
        "y": 0.1
       },
       "content": {
        "cell": "c448b021-1d7c-4552-9313-8968859b600f",
        "part": "whole"
       },
       "id": "2f0c8d23-a59f-48f6-99a1-59d041a7fedf"
      }
     }
    },
    "75648e18-9f4d-43c3-9010-07b81243971f": {
     "id": "75648e18-9f4d-43c3-9010-07b81243971f",
     "prev": "b9a071ab-f76a-4194-880a-c498c76f5559",
     "regions": {
      "5dba5f49-44dd-479f-aed8-26696c095ce4": {
       "attrs": {
        "height": 0.4,
        "width": 0.8,
        "x": 0.1,
        "y": 0.5
       },
       "content": {
        "cell": "5db19f85-3c5c-4677-a437-58577f6f80a8",
        "part": "whole"
       },
       "id": "5dba5f49-44dd-479f-aed8-26696c095ce4"
      },
      "f648b35c-e003-4321-aa4f-6c58ea3b64a1": {
       "attrs": {
        "height": 0.8,
        "width": 0.8,
        "x": 0.1,
        "y": 0.1
       },
       "content": {
        "cell": "610827d1-8635-4367-99bd-70776015a3fd",
        "part": "whole"
       },
       "id": "f648b35c-e003-4321-aa4f-6c58ea3b64a1"
      }
     }
    },
    "75bd38af-3aa2-49d5-9003-459123d478c3": {
     "id": "75bd38af-3aa2-49d5-9003-459123d478c3",
     "prev": "221eb44a-9c7f-4a30-af04-63e9d78d1255",
     "regions": {
      "b5f20fc0-c1ce-4031-8e69-73b2a7ce8229": {
       "attrs": {
        "height": 0.8,
        "width": 0.8,
        "x": 0.1,
        "y": 0.1
       },
       "content": {
        "cell": "edd1d538-8a01-42ff-afde-9ae4b2fa560d",
        "part": "whole"
       },
       "id": "b5f20fc0-c1ce-4031-8e69-73b2a7ce8229"
      }
     }
    },
    "80558d65-8b81-451b-8428-d0acf1a905f3": {
     "id": "80558d65-8b81-451b-8428-d0acf1a905f3",
     "prev": "e93c8efc-80f3-45dc-aaf8-dda130d492d6",
     "regions": {
      "7b01db72-3638-4fa0-a37e-82f09fc2d791": {
       "attrs": {
        "height": 0.8,
        "width": 0.8,
        "x": 0.1,
        "y": 0.1
       },
       "content": {
        "cell": "4fe8ad55-2a95-4de1-a2a6-2e01435c29cf",
        "part": "whole"
       },
       "id": "7b01db72-3638-4fa0-a37e-82f09fc2d791"
      }
     }
    },
    "82196b77-7033-4b0d-ac16-72d81b01bf18": {
     "id": "82196b77-7033-4b0d-ac16-72d81b01bf18",
     "prev": "b880cce5-9619-4a14-8947-64d1f65e5425",
     "regions": {
      "00e435e6-1b64-4afc-8534-2cf8bd4f370d": {
       "attrs": {
        "height": 0.4,
        "width": 0.8,
        "x": 0.1,
        "y": 0.5
       },
       "content": {
        "cell": "c9da8525-3f0a-4e3d-85ca-d0810bce4eb3",
        "part": "whole"
       },
       "id": "00e435e6-1b64-4afc-8534-2cf8bd4f370d"
      },
      "1b59a297-33ca-4d4a-82d5-b30894d662bb": {
       "attrs": {
        "height": 0.8,
        "width": 0.8,
        "x": 0.1,
        "y": 0.1
       },
       "content": {
        "cell": "2c7fd939-0e68-41ed-b63d-7f1a54e31114",
        "part": "whole"
       },
       "id": "1b59a297-33ca-4d4a-82d5-b30894d662bb"
      }
     }
    },
    "9b96da66-124a-4c5f-b717-6221d5217e43": {
     "id": "9b96da66-124a-4c5f-b717-6221d5217e43",
     "prev": "5246ebd0-3fce-4886-a107-cee7945b5810",
     "regions": {
      "27838da9-121a-4377-875c-38f9e7ef7a46": {
       "attrs": {
        "height": 0.8,
        "width": 0.8,
        "x": 0.1,
        "y": 0.1
       },
       "content": {
        "cell": "05540c61-b5c1-4842-bd4f-bbc6c9b1a048",
        "part": "whole"
       },
       "id": "27838da9-121a-4377-875c-38f9e7ef7a46"
      },
      "3057648f-2096-4157-8345-0e5d2b8db68b": {
       "attrs": {
        "height": 0.4,
        "width": 0.8,
        "x": 0.1,
        "y": 0.5
       },
       "content": {
        "cell": "0945d0bb-9351-46a7-90d7-8b63862d8285",
        "part": "whole"
       },
       "id": "3057648f-2096-4157-8345-0e5d2b8db68b"
      }
     }
    },
    "a4f27745-7843-406e-8037-427d83a6de72": {
     "id": "a4f27745-7843-406e-8037-427d83a6de72",
     "prev": "80558d65-8b81-451b-8428-d0acf1a905f3",
     "regions": {
      "5f3b066e-4bda-474d-a538-fb6182d2aa55": {
       "attrs": {
        "height": 0.4,
        "width": 0.8,
        "x": 0.1,
        "y": 0.5
       },
       "content": {
        "cell": "29c16211-3283-403c-a1e1-d0b2cd6d262a",
        "part": "whole"
       },
       "id": "5f3b066e-4bda-474d-a538-fb6182d2aa55"
      },
      "acc57ccc-def0-4fb4-b09a-ce345636d673": {
       "attrs": {
        "height": 0.8,
        "width": 0.8,
        "x": 0.1,
        "y": 0.1
       },
       "content": {
        "cell": "bad074cc-54aa-4efe-af00-5d216fbd1349",
        "part": "whole"
       },
       "id": "acc57ccc-def0-4fb4-b09a-ce345636d673"
      }
     }
    },
    "a5c02742-7dab-4458-abd5-d555bdca622f": {
     "id": "a5c02742-7dab-4458-abd5-d555bdca622f",
     "prev": "75bd38af-3aa2-49d5-9003-459123d478c3",
     "regions": {
      "988dd655-3a34-42d3-86e0-c065966472eb": {
       "attrs": {
        "height": 0.8,
        "width": 0.8,
        "x": 0.1,
        "y": 0.1
       },
       "content": {
        "cell": "dd1e8d8c-9efe-476f-800e-054332e87906",
        "part": "whole"
       },
       "id": "988dd655-3a34-42d3-86e0-c065966472eb"
      },
      "f15137f7-aaf8-4d44-a2fb-d068d84ff7a5": {
       "attrs": {
        "height": 0.4,
        "width": 0.8,
        "x": 0.1,
        "y": 0.5
       },
       "content": {
        "cell": "0538cd8e-d45a-4f4c-b5da-80334cb54727",
        "part": "whole"
       },
       "id": "f15137f7-aaf8-4d44-a2fb-d068d84ff7a5"
      }
     }
    },
    "aab34ea5-4745-4194-a1e8-68ec905196d3": {
     "id": "aab34ea5-4745-4194-a1e8-68ec905196d3",
     "prev": "82196b77-7033-4b0d-ac16-72d81b01bf18",
     "regions": {
      "9165d39f-c4da-4432-af8b-a838c9198f00": {
       "attrs": {
        "height": 0.8,
        "width": 0.8,
        "x": 0.1,
        "y": 0.1
       },
       "content": {
        "cell": "0aad9f5b-94fd-4771-9825-de469a7b03a5",
        "part": "whole"
       },
       "id": "9165d39f-c4da-4432-af8b-a838c9198f00"
      },
      "a5373141-54c3-456b-930e-0796e0579499": {
       "attrs": {
        "height": 0.4,
        "width": 0.8,
        "x": 0.1,
        "y": 0.5
       },
       "content": {
        "cell": "d0ff77fc-6f1e-4270-83c8-a481650d6940",
        "part": "whole"
       },
       "id": "a5373141-54c3-456b-930e-0796e0579499"
      }
     }
    },
    "afaf7ba1-d8ea-4957-b99f-002d36d6ea0b": {
     "id": "afaf7ba1-d8ea-4957-b99f-002d36d6ea0b",
     "prev": "ee8352ef-1ed0-4912-bd55-dc68a7d7c43e",
     "regions": {
      "53b4cf4c-82c4-43c2-8320-51b7417a2b98": {
       "attrs": {
        "height": 0.8,
        "width": 0.8,
        "x": 0.1,
        "y": 0.1
       },
       "content": {
        "cell": "87185a67-6884-4dcf-a3f9-8d176298a828",
        "part": "whole"
       },
       "id": "53b4cf4c-82c4-43c2-8320-51b7417a2b98"
      },
      "8c16a529-876c-4754-91e7-301814e0f26b": {
       "attrs": {
        "height": 0.4,
        "width": 0.8,
        "x": 0.1,
        "y": 0.5
       },
       "content": {
        "cell": "f73adbb5-221d-4f1e-9dc2-80e504e62c72",
        "part": "whole"
       },
       "id": "8c16a529-876c-4754-91e7-301814e0f26b"
      }
     }
    },
    "b880cce5-9619-4a14-8947-64d1f65e5425": {
     "id": "b880cce5-9619-4a14-8947-64d1f65e5425",
     "prev": "be279ed8-c7bd-4c86-98b1-df03e5ce9682",
     "regions": {
      "47f07713-1bd4-4ad4-99b5-4b7643f21ec2": {
       "attrs": {
        "height": 0.8,
        "width": 0.8,
        "x": 0.1,
        "y": 0.1
       },
       "content": {
        "cell": "65f62a9d-9fd4-4db8-895b-92a18c786b6e",
        "part": "whole"
       },
       "id": "47f07713-1bd4-4ad4-99b5-4b7643f21ec2"
      }
     }
    },
    "b9a071ab-f76a-4194-880a-c498c76f5559": {
     "id": "b9a071ab-f76a-4194-880a-c498c76f5559",
     "prev": "fb180bfc-2ebe-4abc-8b4e-7f780d2f127c",
     "regions": {
      "3d41a582-2749-416d-a747-e436d39ef85b": {
       "attrs": {
        "height": 0.4,
        "width": 0.8,
        "x": 0.1,
        "y": 0.5
       },
       "content": {
        "cell": "d85a5f02-57c4-4ba0-8b86-36551690e71f",
        "part": "whole"
       },
       "id": "3d41a582-2749-416d-a747-e436d39ef85b"
      },
      "fdefe60c-52b0-444f-975c-18f7fc1e5103": {
       "attrs": {
        "height": 0.8,
        "width": 0.8,
        "x": 0.1,
        "y": 0.1
       },
       "content": {
        "cell": "b62b4143-9c6c-4067-a146-8a3c9db84a42",
        "part": "whole"
       },
       "id": "fdefe60c-52b0-444f-975c-18f7fc1e5103"
      }
     }
    },
    "be279ed8-c7bd-4c86-98b1-df03e5ce9682": {
     "id": "be279ed8-c7bd-4c86-98b1-df03e5ce9682",
     "prev": "9b96da66-124a-4c5f-b717-6221d5217e43",
     "regions": {
      "e5e73058-3f29-4e48-8627-dc095d9ade64": {
       "attrs": {
        "height": 0.8,
        "width": 0.8,
        "x": 0.1,
        "y": 0.1
       },
       "content": {
        "cell": "3bb632d4-26ed-4f3d-95e1-55bfaecde154",
        "part": "whole"
       },
       "id": "e5e73058-3f29-4e48-8627-dc095d9ade64"
      }
     }
    },
    "d20691c1-f420-44f3-aada-070438fccd4e": {
     "id": "d20691c1-f420-44f3-aada-070438fccd4e",
     "prev": "f63ff18e-c431-4197-86c2-096658c344e7",
     "regions": {
      "4734625d-50bf-4b82-9c98-f4014e3d74cf": {
       "attrs": {
        "height": 0.4,
        "width": 0.8,
        "x": 0.1,
        "y": 0.5
       },
       "content": {
        "cell": "97bef98a-c1f9-4f5c-850b-c332723c9d60",
        "part": "whole"
       },
       "id": "4734625d-50bf-4b82-9c98-f4014e3d74cf"
      },
      "f38298d4-89ba-4afe-9a52-03bcdf6c7eaa": {
       "attrs": {
        "height": 0.8,
        "width": 0.8,
        "x": 0.1,
        "y": 0.1
       },
       "content": {
        "cell": "1b4a3d81-2c45-4422-8cc7-54b52c26ef32",
        "part": "whole"
       },
       "id": "f38298d4-89ba-4afe-9a52-03bcdf6c7eaa"
      }
     }
    },
    "e93c8efc-80f3-45dc-aaf8-dda130d492d6": {
     "id": "e93c8efc-80f3-45dc-aaf8-dda130d492d6",
     "prev": "12102ed7-27e5-404a-a1c9-3e5573338f1b",
     "regions": {
      "4abd2abb-79f4-4363-9461-7c4d52fcd085": {
       "attrs": {
        "height": 0.8,
        "width": 0.8,
        "x": 0.1,
        "y": 0.1
       },
       "content": {
        "cell": "652a155e-9f92-4f6d-8162-6326089f2993",
        "part": "whole"
       },
       "id": "4abd2abb-79f4-4363-9461-7c4d52fcd085"
      }
     }
    },
    "ee8352ef-1ed0-4912-bd55-dc68a7d7c43e": {
     "id": "ee8352ef-1ed0-4912-bd55-dc68a7d7c43e",
     "prev": "a4f27745-7843-406e-8037-427d83a6de72",
     "regions": {
      "7b10d1e9-13cb-4cea-b5d4-2a6c1961c3b9": {
       "attrs": {
        "height": 0.4,
        "width": 0.8,
        "x": 0.1,
        "y": 0.5
       },
       "content": {
        "cell": "a0d71a06-4253-45c4-9fe0-58eddb20a4b6",
        "part": "whole"
       },
       "id": "7b10d1e9-13cb-4cea-b5d4-2a6c1961c3b9"
      },
      "d515f148-8ac5-4561-b2a7-bac2e0df781c": {
       "attrs": {
        "height": 0.8,
        "width": 0.8,
        "x": 0.1,
        "y": 0.1
       },
       "content": {
        "cell": "b896b64d-12a0-4f82-bf0b-0686f13a124c",
        "part": "whole"
       },
       "id": "d515f148-8ac5-4561-b2a7-bac2e0df781c"
      }
     }
    },
    "f63ff18e-c431-4197-86c2-096658c344e7": {
     "id": "f63ff18e-c431-4197-86c2-096658c344e7",
     "prev": "3fe166c9-3edc-4664-911b-7879af25f762",
     "regions": {
      "fb4281a6-6626-4cf6-9238-b151b69693f3": {
       "attrs": {
        "height": 0.8,
        "width": 0.8,
        "x": 0.1,
        "y": 0.1
       },
       "content": {
        "cell": "62269368-a382-4b0e-9dbe-cec06377e7a3",
        "part": "whole"
       },
       "id": "fb4281a6-6626-4cf6-9238-b151b69693f3"
      }
     }
    },
    "fb180bfc-2ebe-4abc-8b4e-7f780d2f127c": {
     "id": "fb180bfc-2ebe-4abc-8b4e-7f780d2f127c",
     "prev": "afaf7ba1-d8ea-4957-b99f-002d36d6ea0b",
     "regions": {
      "238466cf-2170-4f06-ac4f-b5f9fa6c13e1": {
       "attrs": {
        "height": 0.8,
        "width": 0.8,
        "x": 0.1,
        "y": 0.1
       },
       "content": {
        "cell": "5cffbaa1-f901-4e1e-bc3e-7c87700c207c",
        "part": "whole"
       },
       "id": "238466cf-2170-4f06-ac4f-b5f9fa6c13e1"
      }
     }
    }
   },
   "themes": {}
  }
 },
 "nbformat": 4,
 "nbformat_minor": 2
}
